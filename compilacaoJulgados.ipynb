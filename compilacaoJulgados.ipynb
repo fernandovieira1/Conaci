{
 "metadata": {
  "language_info": {
   "codemirror_mode": {
    "name": "ipython",
    "version": 3
   },
   "file_extension": ".py",
   "mimetype": "text/x-python",
   "name": "python",
   "nbconvert_exporter": "python",
   "pygments_lexer": "ipython3",
   "version": "3.8.3-final"
  },
  "orig_nbformat": 2,
  "kernelspec": {
   "name": "Python 3.8.3 64-bit",
   "display_name": "Python 3.8.3 64-bit",
   "metadata": {
    "interpreter": {
     "hash": "aee8b7b246df8f9039afb4144a1f6fd8d2ca17a180786b69acc140d282b71a49"
    }
   }
  }
 },
 "nbformat": 4,
 "nbformat_minor": 2,
 "cells": [
  {
   "source": [
    "## COMPILAÇÃO JULGADOS"
   ],
   "cell_type": "markdown",
   "metadata": {}
  },
  {
   "source": [
    "### Importar pacotes e dados"
   ],
   "cell_type": "markdown",
   "metadata": {}
  },
  {
   "cell_type": "code",
   "execution_count": 37,
   "metadata": {},
   "outputs": [
    {
     "output_type": "execute_result",
     "data": {
      "text/plain": [
       "['index.html',\n",
       " '.DS_Store',\n",
       " 'compilacaoJulgados.ipynb',\n",
       " 'Conaci',\n",
       " 'exp.html',\n",
       " 'compilacaoJulgados.xlsx',\n",
       " '.git']"
      ]
     },
     "metadata": {},
     "execution_count": 37
    }
   ],
   "source": [
    "import os\n",
    "os.chdir(\"/Users/fernandovieira/OneDrive/1. Educacao/Academia/Artigos Academicos/Conaci CGU/Conaci\") # mudar a localização da sua máquina\n",
    "os.getcwd()\n",
    "os.listdir()"
   ]
  },
  {
   "cell_type": "code",
   "execution_count": 38,
   "metadata": {},
   "outputs": [],
   "source": [
    "import pandas as pd\n",
    "import numpy as np\n",
    "import matplotlib as mpl\n",
    "import matplotlib.pyplot as plt\n",
    "import pandas_profiling"
   ]
  },
  {
   "source": [
    "### Visão inicial do df"
   ],
   "cell_type": "markdown",
   "metadata": {}
  },
  {
   "cell_type": "code",
   "execution_count": 40,
   "metadata": {},
   "outputs": [
    {
     "output_type": "execute_result",
     "data": {
      "text/plain": [
       "    TRIBUNAL             DELITO                                      TIPO  \\\n",
       "0        STF        Estelionato  Crime instantâneo de efeitos permanentes   \n",
       "1        STF        Estelionato                          Crime permanente   \n",
       "2        STF        Estelionato  Crime instantâneo de efeitos permanentes   \n",
       "3        STF  Tráfico de drogas                          Crime permanente   \n",
       "4        STF  Tráfico de drogas                          Crime permanente   \n",
       "..       ...                ...                                       ...   \n",
       "149      STM        Insubmissão                          Crime permanente   \n",
       "150      STM           Deserção  Crime instantâneo de efeitos permanentes   \n",
       "151      STM        Estelionato  Crime instantâneo de efeitos permanentes   \n",
       "152      STM           Deserção  Crime instantâneo de efeitos permanentes   \n",
       "153      STM        Insubmissão                          Crime permanente   \n",
       "\n",
       "             DIREITO  \n",
       "0    Previdenciário   \n",
       "1    Previdenciário   \n",
       "2    Previdenciário   \n",
       "3              Penal  \n",
       "4              Penal  \n",
       "..               ...  \n",
       "149          Militar  \n",
       "150          Militar  \n",
       "151  Previdenciário   \n",
       "152          Militar  \n",
       "153          Militar  \n",
       "\n",
       "[154 rows x 4 columns]"
      ],
      "text/html": "<div>\n<style scoped>\n    .dataframe tbody tr th:only-of-type {\n        vertical-align: middle;\n    }\n\n    .dataframe tbody tr th {\n        vertical-align: top;\n    }\n\n    .dataframe thead th {\n        text-align: right;\n    }\n</style>\n<table border=\"1\" class=\"dataframe\">\n  <thead>\n    <tr style=\"text-align: right;\">\n      <th></th>\n      <th>TRIBUNAL</th>\n      <th>DELITO</th>\n      <th>TIPO</th>\n      <th>DIREITO</th>\n    </tr>\n  </thead>\n  <tbody>\n    <tr>\n      <th>0</th>\n      <td>STF</td>\n      <td>Estelionato</td>\n      <td>Crime instantâneo de efeitos permanentes</td>\n      <td>Previdenciário</td>\n    </tr>\n    <tr>\n      <th>1</th>\n      <td>STF</td>\n      <td>Estelionato</td>\n      <td>Crime permanente</td>\n      <td>Previdenciário</td>\n    </tr>\n    <tr>\n      <th>2</th>\n      <td>STF</td>\n      <td>Estelionato</td>\n      <td>Crime instantâneo de efeitos permanentes</td>\n      <td>Previdenciário</td>\n    </tr>\n    <tr>\n      <th>3</th>\n      <td>STF</td>\n      <td>Tráfico de drogas</td>\n      <td>Crime permanente</td>\n      <td>Penal</td>\n    </tr>\n    <tr>\n      <th>4</th>\n      <td>STF</td>\n      <td>Tráfico de drogas</td>\n      <td>Crime permanente</td>\n      <td>Penal</td>\n    </tr>\n    <tr>\n      <th>...</th>\n      <td>...</td>\n      <td>...</td>\n      <td>...</td>\n      <td>...</td>\n    </tr>\n    <tr>\n      <th>149</th>\n      <td>STM</td>\n      <td>Insubmissão</td>\n      <td>Crime permanente</td>\n      <td>Militar</td>\n    </tr>\n    <tr>\n      <th>150</th>\n      <td>STM</td>\n      <td>Deserção</td>\n      <td>Crime instantâneo de efeitos permanentes</td>\n      <td>Militar</td>\n    </tr>\n    <tr>\n      <th>151</th>\n      <td>STM</td>\n      <td>Estelionato</td>\n      <td>Crime instantâneo de efeitos permanentes</td>\n      <td>Previdenciário</td>\n    </tr>\n    <tr>\n      <th>152</th>\n      <td>STM</td>\n      <td>Deserção</td>\n      <td>Crime instantâneo de efeitos permanentes</td>\n      <td>Militar</td>\n    </tr>\n    <tr>\n      <th>153</th>\n      <td>STM</td>\n      <td>Insubmissão</td>\n      <td>Crime permanente</td>\n      <td>Militar</td>\n    </tr>\n  </tbody>\n</table>\n<p>154 rows × 4 columns</p>\n</div>"
     },
     "metadata": {},
     "execution_count": 40
    }
   ],
   "source": [
    "julgados"
   ]
  },
  {
   "source": [
    "### Resumo por coluna"
   ],
   "cell_type": "markdown",
   "metadata": {}
  },
  {
   "cell_type": "code",
   "execution_count": 60,
   "metadata": {},
   "outputs": [
    {
     "output_type": "execute_result",
     "data": {
      "text/plain": [
       "TRIBUNAL\n",
       "STF    55\n",
       "STJ    50\n",
       "STM    17\n",
       "TRF    25\n",
       "TSE     7\n",
       "dtype: int64"
      ]
     },
     "metadata": {},
     "execution_count": 60
    }
   ],
   "source": [
    "julgados.groupby([\"TRIBUNAL\"]).size()"
   ]
  },
  {
   "cell_type": "code",
   "execution_count": 61,
   "metadata": {},
   "outputs": [
    {
     "output_type": "execute_result",
     "data": {
      "text/plain": [
       "DELITO\n",
       "Apropriação indébita                                                      2\n",
       "Bigamia                                                                   1\n",
       "Casa de prostituição                                                      1\n",
       "Causar poluição                                                           1\n",
       "Constituição de milícia privada, associação criminosa ou quadrilha        4\n",
       "Contrabando e descaminho                                                  1\n",
       "Corrupção ativa                                                           1\n",
       "Corrupção eleitoral                                                       6\n",
       "Corrupção passiva                                                         1\n",
       "Crime contra a ordem tributária                                          29\n",
       "Deserção                                                                  9\n",
       "Estelionato                                                              47\n",
       "Evasão de divisas                                                         2\n",
       "Falsidade ideológica                                                      1\n",
       "Falsidade material de atestado ou certidão                                1\n",
       "Falsificação de documento                                                 1\n",
       "Falta disciplinar de natureza grave. Tentativa de fuga                    1\n",
       "Fraude falimentar                                                         1\n",
       "Gestão fraudulenta                                                        1\n",
       "Impedir ou dificultar a regeneração natural de florestas                  6\n",
       "Ingresso clandestino                                                      2\n",
       "Instalação irregular de empreendimento sem licenciamento ambiental        1\n",
       "Instalação ou utilização ilegal de telecomunicações                       1\n",
       "Insubmissão                                                               4\n",
       "Invasão de terras públicas                                                2\n",
       "Lavagem de dinheiro                                                       2\n",
       "Maus tratos a menor                                                       1\n",
       "Parcelamento ilegal do solo                                               2\n",
       "Participação ilícita                                                      1\n",
       "Peculato                                                                  2\n",
       "Peculato mediante erro de outrem                                          1\n",
       "Petrechos para falsificação de moeda                                      1\n",
       "Pornografia infantil                                                      1\n",
       "Posse ou porte ilegal de arma de fogo de uso restrito                     2\n",
       "Roubo                                                                     1\n",
       "Sequestro e cárcere privado                                               2\n",
       "Tráfico de drogas                                                        10\n",
       "Tráfico, posse ou uso de entorpecente ou substância de efeito similar     1\n",
       "dtype: int64"
      ]
     },
     "metadata": {},
     "execution_count": 61
    }
   ],
   "source": [
    "julgados.groupby([\"DELITO\"]).size()"
   ]
  },
  {
   "cell_type": "code",
   "execution_count": 62,
   "metadata": {},
   "outputs": [
    {
     "output_type": "execute_result",
     "data": {
      "text/plain": [
       "TIPO\n",
       "Crime continuado                             29\n",
       "Crime eventualmente permanente                3\n",
       "Crime instantâneo de efeitos permanentes     18\n",
       "Crime permanente                            104\n",
       "dtype: int64"
      ]
     },
     "metadata": {},
     "execution_count": 62
    }
   ],
   "source": [
    "julgados.groupby([\"TIPO\"]).size()"
   ]
  },
  {
   "cell_type": "code",
   "execution_count": 63,
   "metadata": {},
   "outputs": [
    {
     "output_type": "execute_result",
     "data": {
      "text/plain": [
       "DIREITO\n",
       "Agrário             2\n",
       "Ambiental           8\n",
       "Eleitoral           7\n",
       "Empresarial         2\n",
       "Militar            18\n",
       "Penal              43\n",
       "Previdenciário     44\n",
       "Tributário         30\n",
       "dtype: int64"
      ]
     },
     "metadata": {},
     "execution_count": 63
    }
   ],
   "source": [
    "julgados.groupby([\"DIREITO\"]).size()"
   ]
  },
  {
   "source": [
    "### Tabelas agregando dados"
   ],
   "cell_type": "markdown",
   "metadata": {}
  },
  {
   "cell_type": "code",
   "execution_count": 54,
   "metadata": {},
   "outputs": [
    {
     "output_type": "execute_result",
     "data": {
      "text/plain": [
       "TRIBUNAL  DIREITO        \n",
       "STF       Ambiental           3\n",
       "          Empresarial         1\n",
       "          Militar             7\n",
       "          Penal              22\n",
       "          Previdenciário     21\n",
       "          Tributário          1\n",
       "STJ       Agrário             2\n",
       "          Ambiental           2\n",
       "          Empresarial         1\n",
       "          Penal               8\n",
       "          Previdenciário     15\n",
       "          Tributário         22\n",
       "STM       Militar            11\n",
       "          Penal               1\n",
       "          Previdenciário      5\n",
       "TRF       Ambiental           3\n",
       "          Penal              12\n",
       "          Previdenciário      3\n",
       "          Tributário          7\n",
       "TSE       Eleitoral           7\n",
       "dtype: int64"
      ]
     },
     "metadata": {},
     "execution_count": 54
    }
   ],
   "source": [
    "julgados.groupby([\"TRIBUNAL\", \"DIREITO\"]).size() # Ramos do direito por tribunal"
   ]
  },
  {
   "cell_type": "code",
   "execution_count": 57,
   "metadata": {},
   "outputs": [
    {
     "output_type": "execute_result",
     "data": {
      "text/plain": [
       "TIPO                                      TRIBUNAL\n",
       "Crime continuado                          STJ          3\n",
       "                                          STM          6\n",
       "                                          TRF         14\n",
       "                                          TSE          6\n",
       "Crime eventualmente permanente            STF          1\n",
       "                                          STJ          2\n",
       "Crime instantâneo de efeitos permanentes  STF          6\n",
       "                                          STJ          8\n",
       "                                          STM          4\n",
       "Crime permanente                          STF         48\n",
       "                                          STJ         37\n",
       "                                          STM          7\n",
       "                                          TRF         11\n",
       "                                          TSE          1\n",
       "dtype: int64"
      ]
     },
     "metadata": {},
     "execution_count": 57
    }
   ],
   "source": [
    "julgados.groupby([\"TIPO\", \"TRIBUNAL\"]).size() # tipos de crime por tribunal"
   ]
  },
  {
   "cell_type": "code",
   "execution_count": 49,
   "metadata": {},
   "outputs": [
    {
     "output_type": "execute_result",
     "data": {
      "text/plain": [
       "                           0\n",
       "TRIBUNAL DIREITO            \n",
       "STF      Ambiental         3\n",
       "         Empresarial       1\n",
       "         Militar           7\n",
       "         Penal            22\n",
       "         Previdenciário   21\n",
       "         Tributário        1\n",
       "STJ      Agrário           2\n",
       "         Ambiental         2\n",
       "         Empresarial       1\n",
       "         Penal             8\n",
       "         Previdenciário   15\n",
       "         Tributário       22\n",
       "STM      Militar          11\n",
       "         Penal             1\n",
       "         Previdenciário    5\n",
       "TRF      Ambiental         3\n",
       "         Penal            12\n",
       "         Previdenciário    3\n",
       "         Tributário        7\n",
       "TSE      Eleitoral         7"
      ],
      "text/html": "<div>\n<style scoped>\n    .dataframe tbody tr th:only-of-type {\n        vertical-align: middle;\n    }\n\n    .dataframe tbody tr th {\n        vertical-align: top;\n    }\n\n    .dataframe thead th {\n        text-align: right;\n    }\n</style>\n<table border=\"1\" class=\"dataframe\">\n  <thead>\n    <tr style=\"text-align: right;\">\n      <th></th>\n      <th></th>\n      <th>0</th>\n    </tr>\n    <tr>\n      <th>TRIBUNAL</th>\n      <th>DIREITO</th>\n      <th></th>\n    </tr>\n  </thead>\n  <tbody>\n    <tr>\n      <th rowspan=\"6\" valign=\"top\">STF</th>\n      <th>Ambiental</th>\n      <td>3</td>\n    </tr>\n    <tr>\n      <th>Empresarial</th>\n      <td>1</td>\n    </tr>\n    <tr>\n      <th>Militar</th>\n      <td>7</td>\n    </tr>\n    <tr>\n      <th>Penal</th>\n      <td>22</td>\n    </tr>\n    <tr>\n      <th>Previdenciário</th>\n      <td>21</td>\n    </tr>\n    <tr>\n      <th>Tributário</th>\n      <td>1</td>\n    </tr>\n    <tr>\n      <th rowspan=\"6\" valign=\"top\">STJ</th>\n      <th>Agrário</th>\n      <td>2</td>\n    </tr>\n    <tr>\n      <th>Ambiental</th>\n      <td>2</td>\n    </tr>\n    <tr>\n      <th>Empresarial</th>\n      <td>1</td>\n    </tr>\n    <tr>\n      <th>Penal</th>\n      <td>8</td>\n    </tr>\n    <tr>\n      <th>Previdenciário</th>\n      <td>15</td>\n    </tr>\n    <tr>\n      <th>Tributário</th>\n      <td>22</td>\n    </tr>\n    <tr>\n      <th rowspan=\"3\" valign=\"top\">STM</th>\n      <th>Militar</th>\n      <td>11</td>\n    </tr>\n    <tr>\n      <th>Penal</th>\n      <td>1</td>\n    </tr>\n    <tr>\n      <th>Previdenciário</th>\n      <td>5</td>\n    </tr>\n    <tr>\n      <th rowspan=\"4\" valign=\"top\">TRF</th>\n      <th>Ambiental</th>\n      <td>3</td>\n    </tr>\n    <tr>\n      <th>Penal</th>\n      <td>12</td>\n    </tr>\n    <tr>\n      <th>Previdenciário</th>\n      <td>3</td>\n    </tr>\n    <tr>\n      <th>Tributário</th>\n      <td>7</td>\n    </tr>\n    <tr>\n      <th>TSE</th>\n      <th>Eleitoral</th>\n      <td>7</td>\n    </tr>\n  </tbody>\n</table>\n</div>"
     },
     "metadata": {},
     "execution_count": 49
    }
   ],
   "source": [
    "tribunalDireito = julgados.groupby([\"TRIBUNAL\", \"DIREITO\"]).size()\n",
    "tribunalDireito = tribunalDireito.to_frame()\n",
    "tribunalDireito"
   ]
  }
 ]
}