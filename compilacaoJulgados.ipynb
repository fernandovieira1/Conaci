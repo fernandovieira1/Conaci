{
 "metadata": {
  "language_info": {
   "codemirror_mode": {
    "name": "ipython",
    "version": 3
   },
   "file_extension": ".py",
   "mimetype": "text/x-python",
   "name": "python",
   "nbconvert_exporter": "python",
   "pygments_lexer": "ipython3",
   "version": "3.8.3-final"
  },
  "orig_nbformat": 2,
  "kernelspec": {
   "name": "Python 3.8.3 64-bit",
   "display_name": "Python 3.8.3 64-bit",
   "metadata": {
    "interpreter": {
     "hash": "aee8b7b246df8f9039afb4144a1f6fd8d2ca17a180786b69acc140d282b71a49"
    }
   }
  }
 },
 "nbformat": 4,
 "nbformat_minor": 2,
 "cells": [
  {
   "source": [
    "## COMPILAÇÃO JULGADOS"
   ],
   "cell_type": "markdown",
   "metadata": {}
  },
  {
   "cell_type": "code",
   "execution_count": 1,
   "metadata": {},
   "outputs": [
    {
     "output_type": "execute_result",
     "data": {
      "text/plain": [
       "['compilacaoJulgados.ipynb', 'Conaci', 'compilacaoJulgados.xlsx', '.git']"
      ]
     },
     "metadata": {},
     "execution_count": 1
    }
   ],
   "source": [
    "import os\n",
    "os.chdir(\"/Users/fernandovieira/OneDrive/1. Educacao/Academia/Artigos Academicos/Conaci CGU/Conaci\") # mudar a localização da sua máquina\n",
    "os.getcwd()\n",
    "os.listdir()"
   ]
  },
  {
   "cell_type": "code",
   "execution_count": 2,
   "metadata": {},
   "outputs": [],
   "source": [
    "import pandas as pd\n",
    "import numpy as np\n",
    "import matplotlib as mpl\n",
    "import matplotlib.pyplot as plt"
   ]
  },
  {
   "cell_type": "code",
   "execution_count": 3,
   "metadata": {},
   "outputs": [],
   "source": [
    "julgados = pd.read_excel(\"compilacaoJulgados.xlsx\", sheet_name=\"dados\")"
   ]
  },
  {
   "cell_type": "code",
   "execution_count": 4,
   "metadata": {},
   "outputs": [
    {
     "output_type": "execute_result",
     "data": {
      "text/plain": [
       "    TRIBUNAL             DELITO                                      TIPO  \\\n",
       "0        STF        Estelionato  Crime instantâneo de efeitos permanentes   \n",
       "1        STF        Estelionato                          Crime permanente   \n",
       "2        STF        Estelionato  Crime instantâneo de efeitos permanentes   \n",
       "3        STF  Tráfico de drogas                          Crime permanente   \n",
       "4        STF  Tráfico de drogas                          Crime permanente   \n",
       "..       ...                ...                                       ...   \n",
       "149      STM        Insubmissão                          Crime permanente   \n",
       "150      STM           Deserção  Crime instantâneo de efeitos permanentes   \n",
       "151      STM        Estelionato  Crime instantâneo de efeitos permanentes   \n",
       "152      STM           Deserção  Crime instantâneo de efeitos permanentes   \n",
       "153      STM        Insubmissão                          Crime permanente   \n",
       "\n",
       "             DIREITO  \n",
       "0    Previdenciário   \n",
       "1    Previdenciário   \n",
       "2    Previdenciário   \n",
       "3              Penal  \n",
       "4              Penal  \n",
       "..               ...  \n",
       "149          Militar  \n",
       "150          Militar  \n",
       "151  Previdenciário   \n",
       "152          Militar  \n",
       "153          Militar  \n",
       "\n",
       "[154 rows x 4 columns]"
      ],
      "text/html": "<div>\n<style scoped>\n    .dataframe tbody tr th:only-of-type {\n        vertical-align: middle;\n    }\n\n    .dataframe tbody tr th {\n        vertical-align: top;\n    }\n\n    .dataframe thead th {\n        text-align: right;\n    }\n</style>\n<table border=\"1\" class=\"dataframe\">\n  <thead>\n    <tr style=\"text-align: right;\">\n      <th></th>\n      <th>TRIBUNAL</th>\n      <th>DELITO</th>\n      <th>TIPO</th>\n      <th>DIREITO</th>\n    </tr>\n  </thead>\n  <tbody>\n    <tr>\n      <th>0</th>\n      <td>STF</td>\n      <td>Estelionato</td>\n      <td>Crime instantâneo de efeitos permanentes</td>\n      <td>Previdenciário</td>\n    </tr>\n    <tr>\n      <th>1</th>\n      <td>STF</td>\n      <td>Estelionato</td>\n      <td>Crime permanente</td>\n      <td>Previdenciário</td>\n    </tr>\n    <tr>\n      <th>2</th>\n      <td>STF</td>\n      <td>Estelionato</td>\n      <td>Crime instantâneo de efeitos permanentes</td>\n      <td>Previdenciário</td>\n    </tr>\n    <tr>\n      <th>3</th>\n      <td>STF</td>\n      <td>Tráfico de drogas</td>\n      <td>Crime permanente</td>\n      <td>Penal</td>\n    </tr>\n    <tr>\n      <th>4</th>\n      <td>STF</td>\n      <td>Tráfico de drogas</td>\n      <td>Crime permanente</td>\n      <td>Penal</td>\n    </tr>\n    <tr>\n      <th>...</th>\n      <td>...</td>\n      <td>...</td>\n      <td>...</td>\n      <td>...</td>\n    </tr>\n    <tr>\n      <th>149</th>\n      <td>STM</td>\n      <td>Insubmissão</td>\n      <td>Crime permanente</td>\n      <td>Militar</td>\n    </tr>\n    <tr>\n      <th>150</th>\n      <td>STM</td>\n      <td>Deserção</td>\n      <td>Crime instantâneo de efeitos permanentes</td>\n      <td>Militar</td>\n    </tr>\n    <tr>\n      <th>151</th>\n      <td>STM</td>\n      <td>Estelionato</td>\n      <td>Crime instantâneo de efeitos permanentes</td>\n      <td>Previdenciário</td>\n    </tr>\n    <tr>\n      <th>152</th>\n      <td>STM</td>\n      <td>Deserção</td>\n      <td>Crime instantâneo de efeitos permanentes</td>\n      <td>Militar</td>\n    </tr>\n    <tr>\n      <th>153</th>\n      <td>STM</td>\n      <td>Insubmissão</td>\n      <td>Crime permanente</td>\n      <td>Militar</td>\n    </tr>\n  </tbody>\n</table>\n<p>154 rows × 4 columns</p>\n</div>"
     },
     "metadata": {},
     "execution_count": 4
    }
   ],
   "source": [
    "julgados"
   ]
  },
  {
   "source": [
    "teste"
   ],
   "cell_type": "markdown",
   "metadata": {}
  }
 ]
}